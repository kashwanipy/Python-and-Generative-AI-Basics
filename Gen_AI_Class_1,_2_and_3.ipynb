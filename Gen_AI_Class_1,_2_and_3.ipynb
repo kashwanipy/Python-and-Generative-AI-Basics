{
  "nbformat": 4,
  "nbformat_minor": 0,
  "metadata": {
    "colab": {
      "provenance": [],
      "toc_visible": true,
      "authorship_tag": "ABX9TyPAevAsqeXJqUauniIQ8B4F",
      "include_colab_link": true
    },
    "kernelspec": {
      "name": "python3",
      "display_name": "Python 3"
    },
    "language_info": {
      "name": "python"
    }
  },
  "cells": [
    {
      "cell_type": "markdown",
      "metadata": {
        "id": "view-in-github",
        "colab_type": "text"
      },
      "source": [
        "<a href=\"https://colab.research.google.com/github/kashwanipy/Python-and-Generative-AI-Basics/blob/main/Gen_AI_Class_1%2C_2_and_3.ipynb\" target=\"_parent\"><img src=\"https://colab.research.google.com/assets/colab-badge.svg\" alt=\"Open In Colab\"/></a>"
      ]
    },
    {
      "cell_type": "code",
      "execution_count": 1,
      "metadata": {
        "id": "R82OJjTQPLuK",
        "colab": {
          "base_uri": "https://localhost:8080/"
        },
        "outputId": "a063641f-773e-4fc0-b171-a6eee4c5f85c"
      },
      "outputs": [
        {
          "output_type": "stream",
          "name": "stdout",
          "text": [
            "Enter first number: 10\n",
            "Enter second number: 20\n",
            "The sum of 10.0 and 20.0 is 30.0\n"
          ]
        }
      ],
      "source": [
        "# prompt: a program take two number as input and print the sum\n",
        "\n",
        "num1 = float(input(\"Enter first number: \"))\n",
        "num2 = float(input(\"Enter second number: \"))\n",
        "\n",
        "sum = num1 + num2\n",
        "print(\"The sum of {0} and {1} is {2}\".format(num1, num2, sum))"
      ]
    }
  ]
}